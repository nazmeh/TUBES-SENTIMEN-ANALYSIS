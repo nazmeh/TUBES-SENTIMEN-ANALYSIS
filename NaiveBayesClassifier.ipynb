{
 "cells": [
  {
   "cell_type": "code",
   "execution_count": 186,
   "metadata": {},
   "outputs": [],
   "source": [
    "import numpy as np\n",
    "import pandas as pd\n",
    "import matplotlib.pyplot as plt\n",
    "\n",
    "from sklearn.compose import ColumnTransformer\n",
    "from sklearn.preprocessing import OneHotEncoder\n",
    "from sklearn.feature_extraction.text import CountVectorizer\n",
    "from sklearn.model_selection import train_test_split\n",
    "from sklearn.naive_bayes import MultinomialNB\n",
    "from sklearn.metrics import confusion_matrix, classification_report\n",
    "\n",
    "import re\n",
    "from nltk.corpus import stopwords\n",
    "from nltk.stem.porter import PorterStemmer\n"
   ]
  },
  {
   "cell_type": "code",
   "execution_count": 187,
   "metadata": {},
   "outputs": [
    {
     "data": {
      "text/html": [
       "<div>\n",
       "<style scoped>\n",
       "    .dataframe tbody tr th:only-of-type {\n",
       "        vertical-align: middle;\n",
       "    }\n",
       "\n",
       "    .dataframe tbody tr th {\n",
       "        vertical-align: top;\n",
       "    }\n",
       "\n",
       "    .dataframe thead th {\n",
       "        text-align: right;\n",
       "    }\n",
       "</style>\n",
       "<table border=\"1\" class=\"dataframe\">\n",
       "  <thead>\n",
       "    <tr style=\"text-align: right;\">\n",
       "      <th></th>\n",
       "      <th>Tweet</th>\n",
       "      <th>HS</th>\n",
       "      <th>Abusive</th>\n",
       "      <th>HS_Individual</th>\n",
       "      <th>HS_Group</th>\n",
       "      <th>HS_Religion</th>\n",
       "      <th>HS_Race</th>\n",
       "      <th>HS_Physical</th>\n",
       "      <th>HS_Gender</th>\n",
       "      <th>HS_Other</th>\n",
       "      <th>...</th>\n",
       "      <th>HS_Strong</th>\n",
       "      <th>Tweet_lower</th>\n",
       "      <th>Tweet_filtering</th>\n",
       "      <th>hs_class</th>\n",
       "      <th>Tweet_token</th>\n",
       "      <th>Tweet_token_freq</th>\n",
       "      <th>Tweet_stopword</th>\n",
       "      <th>Tweet_normalized</th>\n",
       "      <th>Tweet_stemmed</th>\n",
       "      <th>Tweet_stemmed_join</th>\n",
       "    </tr>\n",
       "  </thead>\n",
       "  <tbody>\n",
       "    <tr>\n",
       "      <th>0</th>\n",
       "      <td>- disaat semua cowok berusaha melacak perhatia...</td>\n",
       "      <td>1</td>\n",
       "      <td>1</td>\n",
       "      <td>1</td>\n",
       "      <td>0</td>\n",
       "      <td>0</td>\n",
       "      <td>0</td>\n",
       "      <td>0</td>\n",
       "      <td>0</td>\n",
       "      <td>1</td>\n",
       "      <td>...</td>\n",
       "      <td>0</td>\n",
       "      <td>- disaat semua cowok berusaha melacak perhatia...</td>\n",
       "      <td>disaat semua cowok berusaha melacak perhatian ...</td>\n",
       "      <td>negative</td>\n",
       "      <td>['disaat', 'semua', 'cowok', 'berusaha', 'mela...</td>\n",
       "      <td>&lt;FreqDist with 17 samples and 21 outcomes&gt;</td>\n",
       "      <td>['disaat', 'cowok', 'berusaha', 'melacak', 'pe...</td>\n",
       "      <td>['di saat', 'cowok', 'berusaha', 'melacak', 'p...</td>\n",
       "      <td>['di saat', 'cowok', 'usaha', 'lacak', 'perhat...</td>\n",
       "      <td>di saat cowok usaha lacak perhati gue kamu lan...</td>\n",
       "    </tr>\n",
       "    <tr>\n",
       "      <th>1</th>\n",
       "      <td>RT USER: USER siapa yang telat ngasih tau elu?...</td>\n",
       "      <td>0</td>\n",
       "      <td>1</td>\n",
       "      <td>0</td>\n",
       "      <td>0</td>\n",
       "      <td>0</td>\n",
       "      <td>0</td>\n",
       "      <td>0</td>\n",
       "      <td>0</td>\n",
       "      <td>0</td>\n",
       "      <td>...</td>\n",
       "      <td>0</td>\n",
       "      <td>rt user: user siapa yang telat ngasih tau elu?...</td>\n",
       "      <td>siapa yang telat ngasih tau eluedan sarap gue ...</td>\n",
       "      <td>positive</td>\n",
       "      <td>['siapa', 'yang', 'telat', 'ngasih', 'tau', 'e...</td>\n",
       "      <td>&lt;FreqDist with 17 samples and 18 outcomes&gt;</td>\n",
       "      <td>['telat', 'ngasih', 'tau', 'eluedan', 'sarap',...</td>\n",
       "      <td>['telat', 'memberi', 'tau', 'eluedan', 'sarap'...</td>\n",
       "      <td>['telat', 'beri', 'tau', 'eluedan', 'sarap', '...</td>\n",
       "      <td>telat beri tau eluedan sarap gue gaul cigax ji...</td>\n",
       "    </tr>\n",
       "    <tr>\n",
       "      <th>2</th>\n",
       "      <td>41. Kadang aku berfikir, kenapa aku tetap perc...</td>\n",
       "      <td>0</td>\n",
       "      <td>0</td>\n",
       "      <td>0</td>\n",
       "      <td>0</td>\n",
       "      <td>0</td>\n",
       "      <td>0</td>\n",
       "      <td>0</td>\n",
       "      <td>0</td>\n",
       "      <td>0</td>\n",
       "      <td>...</td>\n",
       "      <td>0</td>\n",
       "      <td>41. kadang aku berfikir, kenapa aku tetap perc...</td>\n",
       "      <td>kadang aku berfikir kenapa aku tetap percaya p...</td>\n",
       "      <td>positive</td>\n",
       "      <td>['kadang', 'aku', 'berfikir', 'kenapa', 'aku',...</td>\n",
       "      <td>&lt;FreqDist with 27 samples and 36 outcomes&gt;</td>\n",
       "      <td>['kadang', 'berfikir', 'percaya', 'tuhan', 'ja...</td>\n",
       "      <td>['kadang', 'berpikir', 'percaya', 'tuhan', 'ja...</td>\n",
       "      <td>['kadang', 'pikir', 'percaya', 'tuhan', 'jatuh...</td>\n",
       "      <td>kadang pikir percaya tuhan jatuh berkalikali k...</td>\n",
       "    </tr>\n",
       "    <tr>\n",
       "      <th>3</th>\n",
       "      <td>USER USER AKU ITU AKU\\n\\nKU TAU MATAMU SIPIT T...</td>\n",
       "      <td>0</td>\n",
       "      <td>0</td>\n",
       "      <td>0</td>\n",
       "      <td>0</td>\n",
       "      <td>0</td>\n",
       "      <td>0</td>\n",
       "      <td>0</td>\n",
       "      <td>0</td>\n",
       "      <td>0</td>\n",
       "      <td>...</td>\n",
       "      <td>0</td>\n",
       "      <td>user user aku itu aku\\n\\nku tau matamu sipit t...</td>\n",
       "      <td>aku itu aku ku tau matamu sipit tapi diliat da...</td>\n",
       "      <td>positive</td>\n",
       "      <td>['aku', 'itu', 'aku', 'ku', 'tau', 'matamu', '...</td>\n",
       "      <td>&lt;FreqDist with 10 samples and 13 outcomes&gt;</td>\n",
       "      <td>['ku', 'tau', 'matamu', 'sipit', 'diliat']</td>\n",
       "      <td>['ku', 'tau', 'matamu', 'sipit', 'dilihat']</td>\n",
       "      <td>['ku', 'tau', 'mata', 'sipit', 'lihat']</td>\n",
       "      <td>ku tau mata sipit lihat</td>\n",
       "    </tr>\n",
       "    <tr>\n",
       "      <th>4</th>\n",
       "      <td>USER USER Kaum cebong kapir udah keliatan dong...</td>\n",
       "      <td>1</td>\n",
       "      <td>1</td>\n",
       "      <td>0</td>\n",
       "      <td>1</td>\n",
       "      <td>1</td>\n",
       "      <td>0</td>\n",
       "      <td>0</td>\n",
       "      <td>0</td>\n",
       "      <td>0</td>\n",
       "      <td>...</td>\n",
       "      <td>0</td>\n",
       "      <td>user user kaum cebong kapir udah keliatan dong...</td>\n",
       "      <td>kaum cebong kapir udah keliatan dongoknya dari...</td>\n",
       "      <td>negative</td>\n",
       "      <td>['kaum', 'cebong', 'kapir', 'udah', 'keliatan'...</td>\n",
       "      <td>&lt;FreqDist with 12 samples and 12 outcomes&gt;</td>\n",
       "      <td>['kaum', 'cebong', 'kapir', 'udah', 'keliatan'...</td>\n",
       "      <td>['kaum', 'cebong', 'kafir', 'sudah', 'kelihata...</td>\n",
       "      <td>['kaum', 'cebong', 'kafir', 'sudah', 'lihat', ...</td>\n",
       "      <td>kaum cebong kafir sudah lihat dongok dungu haha</td>\n",
       "    </tr>\n",
       "  </tbody>\n",
       "</table>\n",
       "<p>5 rows × 22 columns</p>\n",
       "</div>"
      ],
      "text/plain": [
       "                                               Tweet  HS  Abusive  \\\n",
       "0  - disaat semua cowok berusaha melacak perhatia...   1        1   \n",
       "1  RT USER: USER siapa yang telat ngasih tau elu?...   0        1   \n",
       "2  41. Kadang aku berfikir, kenapa aku tetap perc...   0        0   \n",
       "3  USER USER AKU ITU AKU\\n\\nKU TAU MATAMU SIPIT T...   0        0   \n",
       "4  USER USER Kaum cebong kapir udah keliatan dong...   1        1   \n",
       "\n",
       "   HS_Individual  HS_Group  HS_Religion  HS_Race  HS_Physical  HS_Gender  \\\n",
       "0              1         0            0        0            0          0   \n",
       "1              0         0            0        0            0          0   \n",
       "2              0         0            0        0            0          0   \n",
       "3              0         0            0        0            0          0   \n",
       "4              0         1            1        0            0          0   \n",
       "\n",
       "   HS_Other  ...  HS_Strong  \\\n",
       "0         1  ...          0   \n",
       "1         0  ...          0   \n",
       "2         0  ...          0   \n",
       "3         0  ...          0   \n",
       "4         0  ...          0   \n",
       "\n",
       "                                         Tweet_lower  \\\n",
       "0  - disaat semua cowok berusaha melacak perhatia...   \n",
       "1  rt user: user siapa yang telat ngasih tau elu?...   \n",
       "2  41. kadang aku berfikir, kenapa aku tetap perc...   \n",
       "3  user user aku itu aku\\n\\nku tau matamu sipit t...   \n",
       "4  user user kaum cebong kapir udah keliatan dong...   \n",
       "\n",
       "                                     Tweet_filtering  hs_class  \\\n",
       "0  disaat semua cowok berusaha melacak perhatian ...  negative   \n",
       "1  siapa yang telat ngasih tau eluedan sarap gue ...  positive   \n",
       "2  kadang aku berfikir kenapa aku tetap percaya p...  positive   \n",
       "3  aku itu aku ku tau matamu sipit tapi diliat da...  positive   \n",
       "4  kaum cebong kapir udah keliatan dongoknya dari...  negative   \n",
       "\n",
       "                                         Tweet_token  \\\n",
       "0  ['disaat', 'semua', 'cowok', 'berusaha', 'mela...   \n",
       "1  ['siapa', 'yang', 'telat', 'ngasih', 'tau', 'e...   \n",
       "2  ['kadang', 'aku', 'berfikir', 'kenapa', 'aku',...   \n",
       "3  ['aku', 'itu', 'aku', 'ku', 'tau', 'matamu', '...   \n",
       "4  ['kaum', 'cebong', 'kapir', 'udah', 'keliatan'...   \n",
       "\n",
       "                             Tweet_token_freq  \\\n",
       "0  <FreqDist with 17 samples and 21 outcomes>   \n",
       "1  <FreqDist with 17 samples and 18 outcomes>   \n",
       "2  <FreqDist with 27 samples and 36 outcomes>   \n",
       "3  <FreqDist with 10 samples and 13 outcomes>   \n",
       "4  <FreqDist with 12 samples and 12 outcomes>   \n",
       "\n",
       "                                      Tweet_stopword  \\\n",
       "0  ['disaat', 'cowok', 'berusaha', 'melacak', 'pe...   \n",
       "1  ['telat', 'ngasih', 'tau', 'eluedan', 'sarap',...   \n",
       "2  ['kadang', 'berfikir', 'percaya', 'tuhan', 'ja...   \n",
       "3         ['ku', 'tau', 'matamu', 'sipit', 'diliat']   \n",
       "4  ['kaum', 'cebong', 'kapir', 'udah', 'keliatan'...   \n",
       "\n",
       "                                    Tweet_normalized  \\\n",
       "0  ['di saat', 'cowok', 'berusaha', 'melacak', 'p...   \n",
       "1  ['telat', 'memberi', 'tau', 'eluedan', 'sarap'...   \n",
       "2  ['kadang', 'berpikir', 'percaya', 'tuhan', 'ja...   \n",
       "3        ['ku', 'tau', 'matamu', 'sipit', 'dilihat']   \n",
       "4  ['kaum', 'cebong', 'kafir', 'sudah', 'kelihata...   \n",
       "\n",
       "                                       Tweet_stemmed  \\\n",
       "0  ['di saat', 'cowok', 'usaha', 'lacak', 'perhat...   \n",
       "1  ['telat', 'beri', 'tau', 'eluedan', 'sarap', '...   \n",
       "2  ['kadang', 'pikir', 'percaya', 'tuhan', 'jatuh...   \n",
       "3            ['ku', 'tau', 'mata', 'sipit', 'lihat']   \n",
       "4  ['kaum', 'cebong', 'kafir', 'sudah', 'lihat', ...   \n",
       "\n",
       "                                  Tweet_stemmed_join  \n",
       "0  di saat cowok usaha lacak perhati gue kamu lan...  \n",
       "1  telat beri tau eluedan sarap gue gaul cigax ji...  \n",
       "2  kadang pikir percaya tuhan jatuh berkalikali k...  \n",
       "3                            ku tau mata sipit lihat  \n",
       "4    kaum cebong kafir sudah lihat dongok dungu haha  \n",
       "\n",
       "[5 rows x 22 columns]"
      ]
     },
     "execution_count": 187,
     "metadata": {},
     "output_type": "execute_result"
    }
   ],
   "source": [
    "dataset = pd.read_csv('preprocessing_data.csv')\n",
    "dataset.head()"
   ]
  },
  {
   "cell_type": "code",
   "execution_count": 188,
   "metadata": {},
   "outputs": [
    {
     "name": "stdout",
     "output_type": "stream",
     "text": [
      "[[0. 1.]\n",
      " [1. 0.]\n",
      " [1. 0.]\n",
      " ...\n",
      " [1. 0.]\n",
      " [1. 0.]\n",
      " [0. 1.]]\n"
     ]
    }
   ],
   "source": [
    "dt_transformed = dataset[['HS', 'Tweet_stemmed_join']]\n",
    "y = dt_transformed.iloc[:, 0].values\n",
    "\n",
    "ct = ColumnTransformer(transformers=[('encoder', OneHotEncoder(), [0])], remainder='passthrough')\n",
    "y = np.array(ct.fit_transform(y.reshape(-1, 1)))\n",
    "\n",
    "print(y)"
   ]
  },
  {
   "cell_type": "code",
   "execution_count": 189,
   "metadata": {},
   "outputs": [],
   "source": [
    "y_df = pd.DataFrame(y)\n",
    "y_hate = np.array(y_df[0])\n",
    "y_offensive = np.array(y_df[1])"
   ]
  },
  {
   "cell_type": "code",
   "execution_count": 190,
   "metadata": {},
   "outputs": [
    {
     "name": "stdout",
     "output_type": "stream",
     "text": [
      "[0. 1. 1. ... 1. 1. 0.]\n",
      "[1. 0. 0. ... 0. 0. 1.]\n"
     ]
    }
   ],
   "source": [
    "print(y_hate)\n",
    "print(y_offensive)"
   ]
  },
  {
   "cell_type": "code",
   "execution_count": 191,
   "metadata": {},
   "outputs": [
    {
     "data": {
      "text/plain": [
       "array([[0, 0, 0, ..., 0, 0, 0],\n",
       "       [0, 0, 0, ..., 0, 0, 0],\n",
       "       [0, 0, 0, ..., 0, 0, 0],\n",
       "       ...,\n",
       "       [0, 0, 0, ..., 0, 0, 0],\n",
       "       [0, 0, 0, ..., 0, 0, 0],\n",
       "       [0, 0, 0, ..., 0, 0, 0]], dtype=int64)"
      ]
     },
     "execution_count": 191,
     "metadata": {},
     "output_type": "execute_result"
    }
   ],
   "source": [
    "cv = CountVectorizer(max_features=4000)\n",
    "X = cv.fit_transform(dataset['Tweet_stemmed']).toarray()\n",
    "X"
   ]
  },
  {
   "cell_type": "code",
   "execution_count": 192,
   "metadata": {},
   "outputs": [],
   "source": [
    "X_train, X_test, y_train, y_test = train_test_split(X, y_hate, test_size=0.2, random_state=0)"
   ]
  },
  {
   "cell_type": "code",
   "execution_count": 193,
   "metadata": {},
   "outputs": [],
   "source": [
    "from sklearn.preprocessing import StandardScaler\n",
    "sc = StandardScaler()\n",
    "sc.fit(X_train)\n",
    "\n",
    "X_train = sc.transform(X_train)\n",
    "X_test = sc.transform(X_test)"
   ]
  },
  {
   "cell_type": "code",
   "execution_count": 194,
   "metadata": {},
   "outputs": [
    {
     "name": "stdout",
     "output_type": "stream",
     "text": [
      "Number of transacctions X_train dataset:  (10535, 4000)\n",
      "Number of transacctions y_train dataset:  (10535,)\n",
      "Number of transacctions X_test dataset:  (2634, 4000)\n",
      "Number of transacctions y_test dataset:  (2634,)\n"
     ]
    }
   ],
   "source": [
    "from imblearn.over_sampling import SMOTE\n",
    "\n",
    "X_train, X_test, y_train, y_test = train_test_split(X, y_hate, test_size=0.2, random_state=0)\n",
    "\n",
    "print (\"Number of transacctions X_train dataset: \", X_train.shape)\n",
    "print (\"Number of transacctions y_train dataset: \", y_train.shape)\n",
    "print (\"Number of transacctions X_test dataset: \", X_test.shape)\n",
    "print (\"Number of transacctions y_test dataset: \", y_test.shape)"
   ]
  },
  {
   "cell_type": "code",
   "execution_count": 195,
   "metadata": {},
   "outputs": [
    {
     "name": "stdout",
     "output_type": "stream",
     "text": [
      "Before OverSampling, counts of label '1': 6061\n",
      "Before OverSampling, counts of label '0': 4474 \n",
      "\n",
      "After OverSampling, the shape of train_X: (12122, 4000)\n",
      "After OverSampling, the shape of train_y: (12122,) \n",
      "\n",
      "After OverSampling, counts of label '1': 6061\n",
      "After OverSampling, counts of label '0': 6061\n"
     ]
    }
   ],
   "source": [
    "print(\"Before OverSampling, counts of label '1': {}\".format(sum(y_train==1)))\n",
    "print(\"Before OverSampling, counts of label '0': {} \\n\".format(sum(y_train==0)))\n",
    "\n",
    "sm = SMOTE(random_state=2)\n",
    "X_train_res, y_train_res = sm.fit_resample(X_train, y_train.ravel())\n",
    "\n",
    "print('After OverSampling, the shape of train_X: {}'.format(X_train_res.shape))\n",
    "print('After OverSampling, the shape of train_y: {} \\n'.format(y_train_res.shape))\n",
    "\n",
    "print(\"After OverSampling, counts of label '1': {}\".format(sum(y_train_res==1)))\n",
    "print(\"After OverSampling, counts of label '0': {}\".format(sum(y_train_res==0)))\n"
   ]
  },
  {
   "cell_type": "code",
   "execution_count": 196,
   "metadata": {},
   "outputs": [
    {
     "data": {
      "text/html": [
       "<style>#sk-container-id-12 {color: black;}#sk-container-id-12 pre{padding: 0;}#sk-container-id-12 div.sk-toggleable {background-color: white;}#sk-container-id-12 label.sk-toggleable__label {cursor: pointer;display: block;width: 100%;margin-bottom: 0;padding: 0.3em;box-sizing: border-box;text-align: center;}#sk-container-id-12 label.sk-toggleable__label-arrow:before {content: \"▸\";float: left;margin-right: 0.25em;color: #696969;}#sk-container-id-12 label.sk-toggleable__label-arrow:hover:before {color: black;}#sk-container-id-12 div.sk-estimator:hover label.sk-toggleable__label-arrow:before {color: black;}#sk-container-id-12 div.sk-toggleable__content {max-height: 0;max-width: 0;overflow: hidden;text-align: left;background-color: #f0f8ff;}#sk-container-id-12 div.sk-toggleable__content pre {margin: 0.2em;color: black;border-radius: 0.25em;background-color: #f0f8ff;}#sk-container-id-12 input.sk-toggleable__control:checked~div.sk-toggleable__content {max-height: 200px;max-width: 100%;overflow: auto;}#sk-container-id-12 input.sk-toggleable__control:checked~label.sk-toggleable__label-arrow:before {content: \"▾\";}#sk-container-id-12 div.sk-estimator input.sk-toggleable__control:checked~label.sk-toggleable__label {background-color: #d4ebff;}#sk-container-id-12 div.sk-label input.sk-toggleable__control:checked~label.sk-toggleable__label {background-color: #d4ebff;}#sk-container-id-12 input.sk-hidden--visually {border: 0;clip: rect(1px 1px 1px 1px);clip: rect(1px, 1px, 1px, 1px);height: 1px;margin: -1px;overflow: hidden;padding: 0;position: absolute;width: 1px;}#sk-container-id-12 div.sk-estimator {font-family: monospace;background-color: #f0f8ff;border: 1px dotted black;border-radius: 0.25em;box-sizing: border-box;margin-bottom: 0.5em;}#sk-container-id-12 div.sk-estimator:hover {background-color: #d4ebff;}#sk-container-id-12 div.sk-parallel-item::after {content: \"\";width: 100%;border-bottom: 1px solid gray;flex-grow: 1;}#sk-container-id-12 div.sk-label:hover label.sk-toggleable__label {background-color: #d4ebff;}#sk-container-id-12 div.sk-serial::before {content: \"\";position: absolute;border-left: 1px solid gray;box-sizing: border-box;top: 0;bottom: 0;left: 50%;z-index: 0;}#sk-container-id-12 div.sk-serial {display: flex;flex-direction: column;align-items: center;background-color: white;padding-right: 0.2em;padding-left: 0.2em;position: relative;}#sk-container-id-12 div.sk-item {position: relative;z-index: 1;}#sk-container-id-12 div.sk-parallel {display: flex;align-items: stretch;justify-content: center;background-color: white;position: relative;}#sk-container-id-12 div.sk-item::before, #sk-container-id-12 div.sk-parallel-item::before {content: \"\";position: absolute;border-left: 1px solid gray;box-sizing: border-box;top: 0;bottom: 0;left: 50%;z-index: -1;}#sk-container-id-12 div.sk-parallel-item {display: flex;flex-direction: column;z-index: 1;position: relative;background-color: white;}#sk-container-id-12 div.sk-parallel-item:first-child::after {align-self: flex-end;width: 50%;}#sk-container-id-12 div.sk-parallel-item:last-child::after {align-self: flex-start;width: 50%;}#sk-container-id-12 div.sk-parallel-item:only-child::after {width: 0;}#sk-container-id-12 div.sk-dashed-wrapped {border: 1px dashed gray;margin: 0 0.4em 0.5em 0.4em;box-sizing: border-box;padding-bottom: 0.4em;background-color: white;}#sk-container-id-12 div.sk-label label {font-family: monospace;font-weight: bold;display: inline-block;line-height: 1.2em;}#sk-container-id-12 div.sk-label-container {text-align: center;}#sk-container-id-12 div.sk-container {/* jupyter's `normalize.less` sets `[hidden] { display: none; }` but bootstrap.min.css set `[hidden] { display: none !important; }` so we also need the `!important` here to be able to override the default hidden behavior on the sphinx rendered scikit-learn.org. See: https://github.com/scikit-learn/scikit-learn/issues/21755 */display: inline-block !important;position: relative;}#sk-container-id-12 div.sk-text-repr-fallback {display: none;}</style><div id=\"sk-container-id-12\" class=\"sk-top-container\"><div class=\"sk-text-repr-fallback\"><pre>MultinomialNB()</pre><b>In a Jupyter environment, please rerun this cell to show the HTML representation or trust the notebook. <br />On GitHub, the HTML representation is unable to render, please try loading this page with nbviewer.org.</b></div><div class=\"sk-container\" hidden><div class=\"sk-item\"><div class=\"sk-estimator sk-toggleable\"><input class=\"sk-toggleable__control sk-hidden--visually\" id=\"sk-estimator-id-12\" type=\"checkbox\" checked><label for=\"sk-estimator-id-12\" class=\"sk-toggleable__label sk-toggleable__label-arrow\">MultinomialNB</label><div class=\"sk-toggleable__content\"><pre>MultinomialNB()</pre></div></div></div></div></div>"
      ],
      "text/plain": [
       "MultinomialNB()"
      ]
     },
     "execution_count": 196,
     "metadata": {},
     "output_type": "execute_result"
    }
   ],
   "source": [
    "classifier = MultinomialNB()\n",
    "classifier.fit(X_train_res, y_train_res)"
   ]
  },
  {
   "cell_type": "code",
   "execution_count": 197,
   "metadata": {},
   "outputs": [
    {
     "data": {
      "image/png": "[encoded data removed]",
      "text/plain": [
       "<Figure size 800x400 with 2 Axes>"
      ]
     },
     "metadata": {},
     "output_type": "display_data"
    }
   ],
   "source": [
    "import seaborn as sns\n",
    "\n",
    "y_pred = classifier.predict(X_test)\n",
    "cm = confusion_matrix(y_test, y_pred)\n",
    "\n",
    "group_names = ['True Negatif','False Positif','False Negatif','True Positif']\n",
    "group_counts = ['{0:0.0f}'.format(value) for value in cm.flatten()]\n",
    "group_percentages = ['{0:.2%}'.format(value) for value in cm.flatten()/np.sum(cm)]\n",
    "labels = [f'{v1}\\n{v2}\\n{v3}' for v1, v2, v3 in zip(group_names,group_counts,group_percentages)]\n",
    "labels = np.asarray(labels).reshape(2,2)\n",
    "plt.figure(figsize=(8,4))\n",
    "sns.heatmap(cm, annot=labels, fmt='', cmap='Blues')\n",
    "plt.show()\n",
    "\n"
   ]
  },
  {
   "cell_type": "code",
   "execution_count": 198,
   "metadata": {},
   "outputs": [
    {
     "name": "stdout",
     "output_type": "stream",
     "text": [
      "              precision    recall  f1-score   support\n",
      "\n",
      "         0.0       0.74      0.86      0.80      1087\n",
      "         1.0       0.89      0.79      0.84      1547\n",
      "\n",
      "    accuracy                           0.82      2634\n",
      "   macro avg       0.82      0.82      0.82      2634\n",
      "weighted avg       0.83      0.82      0.82      2634\n",
      "\n"
     ]
    }
   ],
   "source": [
    "print(classification_report(y_test, y_pred))"
   ]
  },
  {
   "cell_type": "code",
   "execution_count": 202,
   "metadata": {},
   "outputs": [
    {
     "name": "stdout",
     "output_type": "stream",
     "text": [
      "Input Text: syukur patut syukur lihat diri engkau komputer pegang sama phone takut tiba tiba bom rudal hantam tempat kau syukur\n",
      "Classification: [1.]\n"
     ]
    }
   ],
   "source": [
    "import random \n",
    "\n",
    "data_try = pd.read_csv('preprocessing_data.csv', encoding='latin-1')\n",
    "\n",
    "def classify_text(text):\n",
    "    # Preprocess the input text\n",
    "    processed_text = re.sub('[^a-zA-Z]', ' ', text)\n",
    "    processed_text = processed_text.lower()\n",
    "    processed_text = processed_text.split()\n",
    "    ps = PorterStemmer()\n",
    "    stop_words = set(stopwords.words('indonesian'))\n",
    "    stop_words.remove('tidak')\n",
    "    processed_text = [ps.stem(word) for word in processed_text if not word in set(stop_words)]\n",
    "    processed_text = ' '.join(processed_text)\n",
    "    \n",
    "    # Vectorize the preprocessed text\n",
    "    text_vector = cv.transform([processed_text]).toarray()\n",
    "    \n",
    "    # Scale the vectorized text\n",
    "    scaled_text = sc.transform(text_vector)\n",
    "    \n",
    "    # Classify the text\n",
    "    classification = classifier.predict(scaled_text)\n",
    "    \n",
    "    return classification\n",
    "\n",
    "# Test the classifier with input text and classification\n",
    "input_text = random.choice(data_try['Tweet_stemmed_join'])\n",
    "classification = classify_text(input_text)\n",
    "print(f\"Input Text: {input_text}\")\n",
    "print(f\"Classification: {classification}\")\n",
    "\n"
   ]
  }
 ],
 "metadata": {
  "kernelspec": {
   "display_name": "Python 3",
   "language": "python",
   "name": "python3"
  },
  "language_info": {
   "codemirror_mode": {
    "name": "ipython",
    "version": 3
   },
   "file_extension": ".py",
   "mimetype": "text/x-python",
   "name": "python",
   "nbconvert_exporter": "python",
   "pygments_lexer": "ipython3",
   "version": "3.9.5"
  }
 },
 "nbformat": 4,
 "nbformat_minor": 2
}
